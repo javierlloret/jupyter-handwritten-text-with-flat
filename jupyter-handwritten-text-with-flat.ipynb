{
 "cells": [
  {
   "cell_type": "code",
   "execution_count": 1,
   "metadata": {},
   "outputs": [
    {
     "name": "stdout",
     "output_type": "stream",
     "text": [
      "Defaulting to user installation because normal site-packages is not writeable\n",
      "Requirement already satisfied: flat in /home/javi/.local/lib/python3.7/site-packages (0.3.2)\n",
      "\u001b[33mWARNING: You are using pip version 20.0.2; however, version 20.3.4 is available.\n",
      "You should consider upgrading via the '/usr/bin/python3.7 -m pip install --upgrade pip' command.\u001b[0m\n",
      "Defaulting to user installation because normal site-packages is not writeable\n",
      "Processing ./bezmerizing-master.zip\n",
      "Requirement already satisfied: flat>=0.0.3 in /home/javi/.local/lib/python3.7/site-packages (from bezmerizing==0.1.0) (0.3.2)\n",
      "Requirement already satisfied: scipy>=1.1.0 in /usr/local/lib/python3.7/dist-packages (from bezmerizing==0.1.0) (1.1.0)\n",
      "Requirement already satisfied: numpy>=1.8.2 in /home/javi/.local/lib/python3.7/site-packages (from scipy>=1.1.0->bezmerizing==0.1.0) (1.20.1)\n",
      "Building wheels for collected packages: bezmerizing\n",
      "  Building wheel for bezmerizing (setup.py) ... \u001b[?25ldone\n",
      "\u001b[?25h  Created wheel for bezmerizing: filename=bezmerizing-0.1.0-py3-none-any.whl size=8434 sha256=dd1bbee3702d7c3461dad2a33d89d04b214cfd6cb343f4e08479e4843a990e9b\n",
      "  Stored in directory: /home/javi/.cache/pip/wheels/73/6b/48/2b6c7fece7493df8474b27ac6958ecca65213057e8c502cb37\n",
      "Successfully built bezmerizing\n",
      "Installing collected packages: bezmerizing\n",
      "  Attempting uninstall: bezmerizing\n",
      "    Found existing installation: bezmerizing 0.1.0\n",
      "    Uninstalling bezmerizing-0.1.0:\n",
      "      Successfully uninstalled bezmerizing-0.1.0\n",
      "Successfully installed bezmerizing-0.1.0\n",
      "\u001b[33mWARNING: You are using pip version 20.0.2; however, version 20.3.4 is available.\n",
      "You should consider upgrading via the '/usr/bin/python3.7 -m pip install --upgrade pip' command.\u001b[0m\n"
     ]
    }
   ],
   "source": [
    "#!python3.7 -m pip install flat\n",
    "#!python3.7 -m pip install bezmerizing-master.zip"
   ]
  },
  {
   "cell_type": "code",
   "execution_count": 24,
   "metadata": {},
   "outputs": [],
   "source": [
    "import json\n",
    "from random import choice \n",
    "from flat import document, shape, rgba\n",
    "from IPython.display import Image, display\n",
    "import numpy as np\n",
    "#from numpy.random import uniform, normal, choice"
   ]
  },
  {
   "cell_type": "code",
   "execution_count": 40,
   "metadata": {},
   "outputs": [],
   "source": [
    "def show(page):\n",
    "    display(Image(page.image(kind='rgba').png()))\n",
    "    \n",
    "def flatten(t):\n",
    "    from itertools import chain\n",
    "    return list(chain(*t))\n",
    "\n",
    "def scale(t, val):\n",
    "    return np.array(t) * val\n",
    "\n",
    "def translate(t, offset):\n",
    "    return np.array(t) + np.array(offset)\n",
    "\n"
   ]
  },
  {
   "cell_type": "code",
   "execution_count": 41,
   "metadata": {},
   "outputs": [],
   "source": [
    "chars = json.load(open(\"char74k-normalized.json\"))"
   ]
  },
  {
   "cell_type": "code",
   "execution_count": 42,
   "metadata": {},
   "outputs": [
    {
     "data": {
      "image/png": "[encoded data removed]",
      "text/plain": [
       "<IPython.core.display.Image object>"
      ]
     },
     "metadata": {},
     "output_type": "display_data"
    }
   ],
   "source": [
    "d = document(600, 100, 'mm')\n",
    "page = d.addpage()\n",
    "figure = shape().stroke(rgba(0, 0, 0, 255)).width(4)\n",
    "\n",
    "sentence = [ \"H\", \"E\", \"Y\", \"T\", \"H\", \"E\", \"R\", \"E\"  ]\n",
    "\n",
    "s = 0.1\n",
    "x = 50\n",
    "y = 50\n",
    "for letter in sentence:\n",
    "    form = choice(chars[letter])\n",
    "    for stroke in form:\n",
    "        lines = figure.polyline(flatten(translate(scale(stroke, s), [x, y])))\n",
    "        page.place(lines)\n",
    "    x+=50\n",
    "    \n",
    "show(page)"
   ]
  },
  {
   "cell_type": "code",
   "execution_count": null,
   "metadata": {},
   "outputs": [],
   "source": []
  },
  {
   "cell_type": "code",
   "execution_count": null,
   "metadata": {},
   "outputs": [],
   "source": []
  }
 ],
 "metadata": {
  "kernelspec": {
   "display_name": "Python 3",
   "language": "python",
   "name": "python3"
  },
  "language_info": {
   "codemirror_mode": {
    "name": "ipython",
    "version": 3
   },
   "file_extension": ".py",
   "mimetype": "text/x-python",
   "name": "python",
   "nbconvert_exporter": "python",
   "pygments_lexer": "ipython3",
   "version": "3.7.7"
  }
 },
 "nbformat": 4,
 "nbformat_minor": 2
}
